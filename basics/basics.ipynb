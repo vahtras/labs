{
 "cells": [
  {
   "cell_type": "markdown",
   "metadata": {},
   "source": [
    "Before you turn this problem in, make sure everything runs as expected. First, **restart the kernel** (in the menubar, select Kernel$\\rightarrow$Restart) and then **run all cells** (in the menubar, select Cell$\\rightarrow$Run All).\n",
    "\n",
    "Make sure you fill in any place that says `YOUR CODE HERE` or \"YOUR ANSWER HERE\", as well as your name and collaborators below:"
   ]
  },
  {
   "cell_type": "code",
   "execution_count": null,
   "metadata": {},
   "outputs": [],
   "source": [
    "NAME = \"\"\n",
    "COLLABORATORS = \"\""
   ]
  },
  {
   "cell_type": "markdown",
   "metadata": {},
   "source": [
    "---"
   ]
  },
  {
   "cell_type": "markdown",
   "metadata": {},
   "source": [
    "## Lab: basic Python syntax\n",
    "\n",
    "This lab uses an experimental feature for running the test cells. To be able to run them you have to install a module in the virtual environment\n",
    "\n",
    "    $ pip install jupyter-pytest\n",
    "    \n",
    "It provides more descriptive information when the test does not pass, however, if you happen to make a syntax error  you have to rerun the whole document with 'Kernel -> Restart & Run all'"
   ]
  },
  {
   "cell_type": "code",
   "execution_count": 1,
   "metadata": {},
   "outputs": [],
   "source": [
    "%load_ext jupytest"
   ]
  },
  {
   "cell_type": "markdown",
   "metadata": {
    "deletable": false,
    "editable": false,
    "nbgrader": {
     "checksum": "e85f0c544c5fd752b49cb220ce12171a",
     "grade": false,
     "grade_id": "cell-d841305055b00f7f",
     "locked": true,
     "schema_version": 1,
     "solution": false
    }
   },
   "source": [
    "#### Exercise 1\n",
    "Write a function 'mymax' that accepts two numbers as parameters and that prints the larger number to the screen. For this elementary exercise, do not use the built-in function 'max()' - just revert to elementary expressions and statements."
   ]
  },
  {
   "cell_type": "code",
   "execution_count": 3,
   "metadata": {
    "deletable": false,
    "nbgrader": {
     "checksum": "2f43bacf7c4dad1ca823dd6bfc940238",
     "grade": false,
     "grade_id": "cell-ee8c56c7cc588b03",
     "locked": false,
     "schema_version": 1,
     "solution": true
    }
   },
   "outputs": [
    {
     "name": "stdout",
     "output_type": "stream",
     "text": [
      "The maximum of 3 and 5 is 5\n"
     ]
    }
   ],
   "source": [
    "def mymax(x, y):\n",
    "    \"\"\"\n",
    "    Returns the maximum of x and y\n",
    "    \"\"\"\n",
    "    # YOUR CODE HERE\n",
    "    if x > y:\n",
    "        greater = x\n",
    "    else:\n",
    "        greater = y\n",
    "        \n",
    "    return greater\n",
    "    \n",
    "a=3\n",
    "b=5\n",
    "\n",
    "print(f\"The maximum of {a} and {b} is {mymax(a, b)}\")"
   ]
  },
  {
   "cell_type": "code",
   "execution_count": 7,
   "metadata": {},
   "outputs": [],
   "source": [
    "assert mymax(2, 6) == 6"
   ]
  },
  {
   "cell_type": "code",
   "execution_count": 5,
   "metadata": {
    "editable": false,
    "nbgrader": {
     "checksum": "abe9afb552a714c49826bfbd75ca9eb5",
     "grade": true,
     "grade_id": "cell-304328f9c7d4c051",
     "locked": true,
     "points": 0,
     "schema_version": 1,
     "solution": false
    }
   },
   "outputs": [
    {
     "name": "stderr",
     "output_type": "stream",
     "text": [
      "UsageError: Cell magic `%%pytest` not found.\n"
     ]
    }
   ],
   "source": [
    "%%pytest\n",
    "assert mymax(2, 6) == 6\n",
    "assert mymax(5, 3) == 5"
   ]
  },
  {
   "cell_type": "code",
   "execution_count": 5,
   "metadata": {
    "deletable": false,
    "editable": false,
    "nbgrader": {
     "checksum": "abe9afb552a714c49826bfbd75ca9eb5",
     "grade": true,
     "grade_id": "cell-304328f9c7d4c051",
     "locked": true,
     "points": 0,
     "schema_version": 1,
     "solution": false
    }
   },
   "outputs": [
    {
     "name": "stderr",
     "output_type": "stream",
     "text": [
      "UsageError: Cell magic `%%pytest` not found.\n"
     ]
    }
   ],
   "source": [
    "%%pytest\n",
    "assert mymax(2, 6) == 6\n",
    "assert mymax(5, 3) == 5"
   ]
  },
  {
   "cell_type": "markdown",
   "metadata": {
    "deletable": false,
    "editable": false,
    "nbgrader": {
     "checksum": "356c501530a1994ab3be98021618f8b4",
     "grade": false,
     "grade_id": "cell-7e57cd736d5abc19",
     "locked": true,
     "schema_version": 1,
     "solution": false
    }
   },
   "source": [
    "#### Exercise 2\n",
    "\n",
    "Write a function to sum the elements of a sequence with a for loop. You can assume that it consists of numeric values."
   ]
  },
  {
   "cell_type": "code",
   "execution_count": 11,
   "metadata": {
    "deletable": false,
    "nbgrader": {
     "checksum": "744be20e682d0fde1c40b9d7d76bec39",
     "grade": false,
     "grade_id": "cell-b607688727ab57f1",
     "locked": false,
     "schema_version": 1,
     "solution": true
    }
   },
   "outputs": [
    {
     "name": "stdout",
     "output_type": "stream",
     "text": [
      "Sum of [1, 2, 3] is 12\n",
      "Sum of (3, 4, 5) is 24\n",
      "Sum of {} is 0\n"
     ]
    }
   ],
   "source": [
    "def mysum(sequence):\n",
    "    \"\"\"\n",
    "    Returns the sum of the elements in sequence\n",
    "    \"\"\"\n",
    "    # YOUR CODE HERE\n",
    "    s = 0\n",
    "    \n",
    "    for i in range(len(sequence)):\n",
    "        s = s + sequence[i]\n",
    "        \n",
    "    for element in sequence:\n",
    "        s = s + element\n",
    "        \n",
    "    return s\n",
    "\n",
    "\n",
    "print(f'Sum of [1, 2, 3] is {mysum([1, 2, 3])}')\n",
    "print(f'Sum of (3, 4, 5) is {mysum((3, 4, 5))}')\n",
    "print(f'Sum of {{}} is {mysum({})}')"
   ]
  },
  {
   "cell_type": "code",
   "execution_count": null,
   "metadata": {
    "deletable": false,
    "editable": false,
    "nbgrader": {
     "checksum": "ea76cbb10f8cbb32a99334af2822a9b9",
     "grade": true,
     "grade_id": "cell-24ac435261756312",
     "locked": true,
     "points": 0,
     "schema_version": 1,
     "solution": false
    }
   },
   "outputs": [],
   "source": [
    "%%pytest\n",
    "assert mysum([1, 2]) == 3\n",
    "assert mysum((1, 1/2, 1/4)) == 1.75"
   ]
  },
  {
   "cell_type": "markdown",
   "metadata": {
    "deletable": false,
    "editable": false,
    "nbgrader": {
     "checksum": "ce4e1a6901bb8d84db1d25684780b051",
     "grade": false,
     "grade_id": "cell-0fcb64dce5cad45f",
     "locked": true,
     "schema_version": 1,
     "solution": false
    }
   },
   "source": [
    "#### Exercise 3\n",
    "\n",
    "Variables of `str` type has a method `join` defined such that when a sequence (e.g. `list`, `tuple`) of strings is given as an argument, they are concatenated to a single string with the variable as a separator. E.g.\n",
    "\n",
    "    >>> separator = '-'\n",
    "    >>> separator.join(['father', 'in', 'law'])\n",
    "    'father-in-law'\n",
    "\n",
    "Use the `join` to generate a histogram with stars such that \n",
    "\n",
    "    histogram([3, 4, 1]) \n",
    "    \n",
    "returns\n",
    "\n",
    "    ***\n",
    "    ****\n",
    "    *\n",
    "\n"
   ]
  },
  {
   "cell_type": "code",
   "execution_count": 13,
   "metadata": {
    "deletable": false,
    "nbgrader": {
     "checksum": "69d093170006f97aac980e76eac7cbaa",
     "grade": false,
     "grade_id": "cell-631ae09a389a66d4",
     "locked": false,
     "schema_version": 1,
     "solution": true
    }
   },
   "outputs": [
    {
     "name": "stdout",
     "output_type": "stream",
     "text": [
      "['***']\n",
      "['***', '****']\n",
      "['***', '****', '*']\n",
      "The histogram of [3, 4, 1] is \n",
      "***\n",
      "****\n",
      "*\n"
     ]
    }
   ],
   "source": [
    "def histogram(sequence):\n",
    "    \"\"\"\n",
    "    Returns histogram in the form of characters\n",
    "    \n",
    "    >>> histogram([3, 4, 1])\n",
    "    ***\n",
    "    ****\n",
    "    *\n",
    "    \n",
    "    \"\"\"\n",
    "    # YOUR CODE HERE\n",
    "    \n",
    "    l = []\n",
    "    for e  in sequence:\n",
    "        l.append(e * '*')\n",
    "        print(l)\n",
    "        \n",
    "    return '\\n'.join(l)\n",
    "\n",
    "print(f'The histogram of [3, 4, 1] is \\n{histogram([3, 4, 1])}')"
   ]
  },
  {
   "cell_type": "code",
   "execution_count": null,
   "metadata": {
    "deletable": false,
    "editable": false,
    "nbgrader": {
     "checksum": "440c62307efe8290cbcd31be7bc6d75b",
     "grade": true,
     "grade_id": "cell-901ea19debe3ee4c",
     "locked": true,
     "points": 0,
     "schema_version": 1,
     "solution": false
    }
   },
   "outputs": [],
   "source": [
    "%%pytest\n",
    "assert histogram([]) == \"\"\n",
    "assert histogram([1, 2]) == \"*\\n**\"\n",
    "assert histogram([1, 2, 3]) == \"*\\n**\\n***\""
   ]
  },
  {
   "cell_type": "markdown",
   "metadata": {
    "deletable": false,
    "editable": false,
    "nbgrader": {
     "checksum": "9ac20f3e33cc51d8873efe3aaf431360",
     "grade": false,
     "grade_id": "cell-191cda8f80a291fe",
     "locked": true,
     "schema_version": 1,
     "solution": false
    }
   },
   "source": [
    "#### Exercise 4\n",
    "\n",
    "Compute how many times a character is present in a string. Use a dictionary to represent the string. "
   ]
  },
  {
   "cell_type": "code",
   "execution_count": null,
   "metadata": {
    "deletable": false,
    "nbgrader": {
     "checksum": "ddfda07c9a211cfc2ad071f1f65958f9",
     "grade": false,
     "grade_id": "cell-94b1ecc182583f9b",
     "locked": false,
     "schema_version": 1,
     "solution": true
    }
   },
   "outputs": [],
   "source": [
    "def character_count(text):\n",
    "    \"\"\"\n",
    "    Returns character count of text\n",
    "    Input: text of type str\n",
    "    Output: dict that maps a character to a number count\n",
    "    \"\"\"\n",
    "    # YOUR CODE HERE\n",
    "    \n",
    "\n",
    "print(f\"Character count of 'ABBA': {character_count('ABBA')}\")"
   ]
  },
  {
   "cell_type": "code",
   "execution_count": null,
   "metadata": {
    "deletable": false,
    "editable": false,
    "nbgrader": {
     "checksum": "312f52251479c31e3caceb22cbb833c1",
     "grade": true,
     "grade_id": "cell-2a787760db753909",
     "locked": true,
     "points": 0,
     "schema_version": 1,
     "solution": false
    }
   },
   "outputs": [],
   "source": [
    "%%pytest\n",
    "assert character_count(\"ABBA\")=={'A': 2, 'B': 2}\n",
    "assert character_count(\"CCGGAAGAGCTTACTTAG\") == {\"A\": 5, \"C\": 4, \"G\": 5, \"T\": 4}"
   ]
  },
  {
   "cell_type": "markdown",
   "metadata": {
    "deletable": false,
    "editable": false,
    "nbgrader": {
     "checksum": "8bf8dfb6fdd1febab23a4d66b19d6777",
     "grade": false,
     "grade_id": "cell-e61ece745b1ea220",
     "locked": true,
     "schema_version": 1,
     "solution": false
    }
   },
   "source": [
    "#### Exercise 5\n",
    "\n",
    "A simple encryption scheme known as Caesarian roll, is obtained by shifting characters a fixed amount. In Python we can obtain the order of a character with the `ord` function\n",
    "\n",
    "    >>> ord('A')\n",
    "    65\n",
    "    \n",
    "and there reverse operation\n",
    "\n",
    "    >>> chr(65)\n",
    "    'A' \n",
    "    \n",
    "Use this in a function that takes a string and returns the encrypted representation"
   ]
  },
  {
   "cell_type": "code",
   "execution_count": null,
   "metadata": {
    "deletable": false,
    "nbgrader": {
     "checksum": "d1f9b5aa2c2b2e5d82c2698d4ea17147",
     "grade": false,
     "grade_id": "cell-95b86ffef93462ec",
     "locked": false,
     "schema_version": 1,
     "solution": true
    }
   },
   "outputs": [],
   "source": [
    "def caesar_shift(text, n):\n",
    "    \"\"\"\n",
    "    Returns an encrypted string by shifting input characters by n\n",
    "    \"\"\"\n",
    "    # YOUR CODE HERE"
   ]
  },
  {
   "cell_type": "code",
   "execution_count": null,
   "metadata": {
    "deletable": false,
    "editable": false,
    "nbgrader": {
     "checksum": "91810af1abd356ee15c699cabcdd5e4f",
     "grade": true,
     "grade_id": "cell-4403018cd26de943",
     "locked": true,
     "points": 0,
     "schema_version": 1,
     "solution": false
    }
   },
   "outputs": [],
   "source": [
    "%%pytest\n",
    "assert caesar_shift('a', 0) == 'a'\n",
    "assert caesar_shift('ABBA', 2) == 'CDDC'\n",
    "assert caesar_shift('CDDC', -2) == 'ABBA'"
   ]
  },
  {
   "cell_type": "markdown",
   "metadata": {
    "deletable": false,
    "editable": false,
    "nbgrader": {
     "checksum": "676b8d41ea61b60718b424bfd1346afa",
     "grade": false,
     "grade_id": "cell-441f570debcc3b92",
     "locked": true,
     "schema_version": 1,
     "solution": false
    }
   },
   "source": [
    "Historically, this encryption allegedly used  by the Roman Emperor Caesar (thereby the name). Eventually the encryption was crackedby realizing that some characters are more common than other in a given language. Use the functions defined in previous exercises to\n",
    "\n",
    "* identify the most common character in the crypto text\n",
    "* in the English language the most common character is 'e' - what is the shift?\n",
    "* decrypt the crypto_text with `caesar_shift` using a negative shift"
   ]
  },
  {
   "cell_type": "code",
   "execution_count": null,
   "metadata": {
    "deletable": false,
    "editable": false,
    "nbgrader": {
     "checksum": "ad1d6ab767ddaff190b02a578d7b33c0",
     "grade": false,
     "grade_id": "cell-d304778231e8e8a9",
     "locked": true,
     "schema_version": 1,
     "solution": false
    }
   },
   "outputs": [],
   "source": [
    "crypto_text = \"{v'il3'vy'uv{'{v'ilA'{oh{'pz'{ol'x|lz{pvuA\\x11~ol{oly'.{pz'uvisly'pu'{ol'tpuk'{v'z|mmly\\x11{ol'zspunz'huk'hyyv~z'vm'v|{yhnlv|z'mvy{|ul3\\x11vy'{v'{hrl'hytz'hnhpuz{'h'zlh'vm'{yv|islz3\\x11huk'i\\x80'vwwvzpun'luk'{oltF'{v'kplA'{v'zsllwB\\x11uv'tvylB'huk'i\\x80'h'zsllw'{v'zh\\x80'~l'luk\\x11{ol'olhy{4hjol'huk'{ol'{ov|zhuk'uh{|yhs'zovjrz\\x11{oh{'mslzo'pz'olpy'{v3'.{pz'h'jvuz|tth{pvu\\x11kl}v|{s\\x80'{v'il'~pzo.k5'{v'kpl3'{v'zsllwB\\x11{v'zsllwA'wlyjohujl'{v'kylhtA'h\\x803'{olyl.z'{ol'y|iB\\x11mvy'pu'{oh{'zsllw'vm'klh{o'~oh{'kylhtz'th\\x80'jvtl\\x11~olu'~l'oh}l'zo|mmslk'vmm'{opz'tvy{hs'jvps3\\x11t|z{'np}l'|z'wh|zlA'{olyl.z'{ol'ylzwlj{\\x11{oh{'thrlz'jhshtp{\\x80'vm'zv'svun'spmlB\\x11mvy'~ov'~v|sk'ilhy'{ol'~opwz'huk'zjvyuz'vm'{ptl3\\x11{ol'vwwylzzvy.z'~yvun3'{ol'wyv|k'thu.z'jvu{|tls\\x803\\x11{ol'whunz'vm'klzwpzlk'sv}l3'{ol'sh~.z'klsh\\x803\\x11{ol'puzvslujl'vm'vmmpjl'huk'{ol'zw|yuz\\x11{oh{'wh{plu{'tlyp{'vm'{ol'|u~vy{o\\x80'{hrlz3\\x11~olu'ol'optzlsm'tpno{'opz'x|pl{|z'thrl\\x11~p{o'h'ihyl'ivkrpuF'~ov'~v|sk'mhyklsz'ilhy3\\x11{v'ny|u{'huk'z~lh{'|ukly'h'~lhy\\x80'spml3\\x11i|{'{oh{'{ol'kylhk'vm'zvtl{opun'hm{ly'klh{o3\\x11{ol'|ukpzjv}ly.k'jv|u{y\\x80'myvt'~ovzl'iv|yu\\x11uv'{yh}lssly'yl{|yuz3'w|\\x81\\x81slz'{ol'~pss\\x11huk'thrlz'|z'yh{oly'ilhy'{ovzl'pssz'~l'oh}l\\x11{ohu'ms\\x80'{v'v{olyz'{oh{'~l'ruv~'uv{'vmF\\x11{o|z'jvuzjplujl'kvlz'thrl'jv~hykz'vm'|z'hssB\\x11huk'{o|z'{ol'uh{p}l'o|l'vm'ylzvs|{pvu\\x11pz'zpjrsplk'v.ly'~p{o'{ol'whsl'jhz{'vm'{ov|no{3\\x11huk'lu{lywypzlz'vm'nylh{'wp{o'huk'tvtlu{\\x11~p{o'{opz'ylnhyk'{olpy'j|yylu{z'{|yu'h~y\\x803\\x11huk'svzl'{ol'uhtl'vm'hj{pvu5\\x11\""
   ]
  },
  {
   "cell_type": "code",
   "execution_count": null,
   "metadata": {
    "deletable": false,
    "nbgrader": {
     "checksum": "58469cac6cbefbd8886b8fc3b0355b50",
     "grade": true,
     "grade_id": "cell-440cb014209f1873",
     "locked": false,
     "points": 0,
     "schema_version": 1,
     "solution": true
    }
   },
   "outputs": [],
   "source": [
    "print(\"Crypto text:\\n\", crypto_text)\n",
    "roll = 0  # redefine this value\n",
    "# YOUR CODE HERE\n",
    "print(\"\\nClear text:\\n\", caesar_shift(crypto_text, -roll))\n"
   ]
  },
  {
   "cell_type": "code",
   "execution_count": null,
   "metadata": {},
   "outputs": [],
   "source": []
  }
 ],
 "metadata": {
  "kernelspec": {
   "display_name": "Python 3",
   "language": "python",
   "name": "python3"
  },
  "language_info": {
   "codemirror_mode": {
    "name": "ipython",
    "version": 3
   },
   "file_extension": ".py",
   "mimetype": "text/x-python",
   "name": "python",
   "nbconvert_exporter": "python",
   "pygments_lexer": "ipython3",
   "version": "3.6.7"
  }
 },
 "nbformat": 4,
 "nbformat_minor": 2
}
