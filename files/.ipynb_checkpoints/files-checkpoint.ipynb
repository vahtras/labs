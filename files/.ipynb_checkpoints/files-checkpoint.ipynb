{
 "cells": [
  {
   "cell_type": "markdown",
   "metadata": {},
   "source": [
    "Before you turn this problem in, make sure everything runs as expected. First, **restart the kernel** (in the menubar, select Kernel$\\rightarrow$Restart) and then **run all cells** (in the menubar, select Cell$\\rightarrow$Run All).\n",
    "\n",
    "Make sure you fill in any place that says `YOUR CODE HERE` or \"YOUR ANSWER HERE\", as well as your name and collaborators below:"
   ]
  },
  {
   "cell_type": "code",
   "execution_count": 1,
   "metadata": {},
   "outputs": [],
   "source": [
    "NAME = \"\"\n",
    "COLLABORATORS = \"\""
   ]
  },
  {
   "cell_type": "markdown",
   "metadata": {},
   "source": [
    "---"
   ]
  },
  {
   "cell_type": "markdown",
   "metadata": {},
   "source": [
    "# File handling\n"
   ]
  },
  {
   "cell_type": "code",
   "execution_count": 2,
   "metadata": {},
   "outputs": [],
   "source": [
    "%load_ext jupytest"
   ]
  },
  {
   "cell_type": "markdown",
   "metadata": {},
   "source": [
    "## Creating our reference file\n",
    "\n",
    "In our initial example we create a small reference file by executing the following cell. The so-called cell-magic command `%%file` takes its first argument as a filename and writes the remaining content of the cell to file\n",
    "\n",
    "[More about cell magic](magics.ipynb)"
   ]
  },
  {
   "cell_type": "code",
   "execution_count": 3,
   "metadata": {
    "deletable": false,
    "editable": false,
    "nbgrader": {
     "checksum": "5b2f48cd5a542111d69dc38798799ec7",
     "grade": false,
     "grade_id": "cell-846fa717ec4901bd",
     "locked": true,
     "schema_version": 1,
     "solution": false
    }
   },
   "outputs": [
    {
     "name": "stdout",
     "output_type": "stream",
     "text": [
      "Overwriting fruits.txt\n"
     ]
    }
   ],
   "source": [
    "%%file fruits.txt\n",
    "apple\n",
    "orange\n",
    "banana\n",
    "\n"
   ]
  },
  {
   "cell_type": "markdown",
   "metadata": {},
   "source": [
    "## Reading\n",
    "\n",
    "In the first exercise we recall different forms of reading text files. These are single-line answers that output some text. \n",
    "\n",
    "In the following cell the underscore `_` refers to the output of the previous command"
   ]
  },
  {
   "cell_type": "markdown",
   "metadata": {},
   "source": [
    "#### Exercise 1\n",
    "What single line is used to return the file content as a single string? Not that the string will contain the end-of-line (newline) character `\\n`"
   ]
  },
  {
   "cell_type": "code",
   "execution_count": 4,
   "metadata": {
    "deletable": false,
    "nbgrader": {
     "checksum": "02946c87d7fa7f943a216863fd4663f7",
     "grade": false,
     "grade_id": "cell-619ee4026f28565c",
     "locked": false,
     "schema_version": 1,
     "solution": true
    }
   },
   "outputs": [
    {
     "data": {
      "text/plain": [
       "'apple\\norange\\nbanana\\n'"
      ]
     },
     "execution_count": 4,
     "metadata": {},
     "output_type": "execute_result"
    }
   ],
   "source": [
    "# YOUR CODE HERE\n",
    "open('fruits.txt').read()"
   ]
  },
  {
   "cell_type": "code",
   "execution_count": 5,
   "metadata": {
    "deletable": false,
    "editable": false,
    "nbgrader": {
     "checksum": "a5248144723ca9f34fe9ecc51bd9dfe5",
     "grade": true,
     "grade_id": "cell-e16f081e726162ce",
     "locked": true,
     "points": 1,
     "schema_version": 1,
     "solution": false
    }
   },
   "outputs": [],
   "source": [
    "assert _ == 'apple\\norange\\nbanana\\n'"
   ]
  },
  {
   "cell_type": "markdown",
   "metadata": {},
   "source": [
    "#### Exercise 2\n",
    "What single line is used to return the file content as a Python list of strings. "
   ]
  },
  {
   "cell_type": "code",
   "execution_count": 6,
   "metadata": {
    "deletable": false,
    "nbgrader": {
     "checksum": "29496f227c7d1400dd295cb57a3d6fe2",
     "grade": false,
     "grade_id": "cell-b8288e222d0343fb",
     "locked": false,
     "schema_version": 1,
     "solution": true
    }
   },
   "outputs": [],
   "source": [
    "# YOUR CODE HERE"
   ]
  },
  {
   "cell_type": "code",
   "execution_count": 7,
   "metadata": {
    "deletable": false,
    "editable": false,
    "nbgrader": {
     "checksum": "54b6c225e3701f79bfe82b6ca21f537e",
     "grade": true,
     "grade_id": "cell-3f4d59f2de6a1c5e",
     "locked": true,
     "points": 1,
     "schema_version": 1,
     "solution": false
    }
   },
   "outputs": [
    {
     "ename": "AssertionError",
     "evalue": "",
     "output_type": "error",
     "traceback": [
      "\u001b[0;31m---------------------------------------------------------------------------\u001b[0m",
      "\u001b[0;31mAssertionError\u001b[0m                            Traceback (most recent call last)",
      "\u001b[0;32m<ipython-input-7-7019f6d74746>\u001b[0m in \u001b[0;36m<module>\u001b[0;34m()\u001b[0m\n\u001b[0;32m----> 1\u001b[0;31m \u001b[0;32massert\u001b[0m \u001b[0m_\u001b[0m \u001b[0;34m==\u001b[0m \u001b[0;34m[\u001b[0m\u001b[0;34m'apple\\n'\u001b[0m\u001b[0;34m,\u001b[0m \u001b[0;34m'orange\\n'\u001b[0m\u001b[0;34m,\u001b[0m \u001b[0;34m'banana\\n'\u001b[0m\u001b[0;34m]\u001b[0m\u001b[0;34m\u001b[0m\u001b[0;34m\u001b[0m\u001b[0m\n\u001b[0m",
      "\u001b[0;31mAssertionError\u001b[0m: "
     ]
    }
   ],
   "source": [
    "assert _ == ['apple\\n', 'orange\\n', 'banana\\n']"
   ]
  },
  {
   "cell_type": "markdown",
   "metadata": {},
   "source": [
    "#### Exercise 3\n",
    "This function will return the lines of the file without the 'end-of-line' characters. Use the [`strip`](https://docs.python.org/3/library/stdtypes.html#str.strip) method"
   ]
  },
  {
   "cell_type": "code",
   "execution_count": 8,
   "metadata": {
    "deletable": false,
    "nbgrader": {
     "checksum": "bb4cec2dd4b6bee9a365d3ba5262b9a7",
     "grade": false,
     "grade_id": "cell-a53c2938a84d15db",
     "locked": false,
     "schema_version": 1,
     "solution": true
    }
   },
   "outputs": [
    {
     "ename": "IndentationError",
     "evalue": "expected an indented block (<ipython-input-8-df7786c538bd>, line 5)",
     "output_type": "error",
     "traceback": [
      "\u001b[0;36m  File \u001b[0;32m\"<ipython-input-8-df7786c538bd>\"\u001b[0;36m, line \u001b[0;32m5\u001b[0m\n\u001b[0;31m    return lines\u001b[0m\n\u001b[0m         ^\u001b[0m\n\u001b[0;31mIndentationError\u001b[0m\u001b[0;31m:\u001b[0m expected an indented block\n"
     ]
    }
   ],
   "source": [
    "def get_list_of_lines_without_eol_character(filename):\n",
    "    lines = []\n",
    "    for line in open('fruits.txt'):\n",
    "        # YOUR CODE HERE\n",
    "    return lines\n",
    "    "
   ]
  },
  {
   "cell_type": "code",
   "execution_count": null,
   "metadata": {
    "deletable": false,
    "editable": false,
    "nbgrader": {
     "checksum": "7c1e815f674c28807faf4a8fb71421ca",
     "grade": true,
     "grade_id": "cell-de85c7e2aeabc67f",
     "locked": true,
     "points": 1,
     "schema_version": 1,
     "solution": false
    }
   },
   "outputs": [],
   "source": [
    "assert get_list_of_lines_without_eol_character('fruits.txt') == ['apple', 'orange', 'banana']"
   ]
  },
  {
   "cell_type": "markdown",
   "metadata": {},
   "source": [
    "## Reading numeric data\n",
    "All reading/writing is done with text objects, i.e. reading a '7' will be text string with a single character rather than a numeric value. \n",
    "\n",
    "To get numbers from file we have to do a type conversion (typically `int` or `float`)\n",
    "\n",
    "Consider the following file with numbers. \n"
   ]
  },
  {
   "cell_type": "code",
   "execution_count": null,
   "metadata": {
    "deletable": false,
    "editable": false,
    "nbgrader": {
     "checksum": "cb9b19760f9c8ccc9cff783c93668f86",
     "grade": false,
     "grade_id": "cell-762fc0f0c9060c95",
     "locked": true,
     "schema_version": 1,
     "solution": false
    }
   },
   "outputs": [],
   "source": [
    "%%file numbers1.txt\n",
    "1\n",
    "2\n",
    "3\n",
    "4\n",
    "5\n",
    "\n"
   ]
  },
  {
   "cell_type": "markdown",
   "metadata": {},
   "source": [
    "### Exercise 4\n",
    "\n",
    "Write a function that takes a file name as input and returns the sum of the numbers in the file, assuming one per line"
   ]
  },
  {
   "cell_type": "code",
   "execution_count": null,
   "metadata": {
    "deletable": false,
    "nbgrader": {
     "checksum": "3827bddb31f550d75afc58abe82f4630",
     "grade": false,
     "grade_id": "cell-e61d832d811f3cc4",
     "locked": false,
     "schema_version": 1,
     "solution": true
    }
   },
   "outputs": [],
   "source": [
    "def sum_numbers_in_file(filename):\n",
    "    f = open(filename)\n",
    "    number_sum = 0\n",
    "    # YOUR CODE HERE\n",
    "    f.close()\n",
    "    return number_sum \n",
    "    "
   ]
  },
  {
   "cell_type": "code",
   "execution_count": null,
   "metadata": {
    "deletable": false,
    "editable": false,
    "nbgrader": {
     "checksum": "a0361b94a874519ec83c9563b0e6f777",
     "grade": true,
     "grade_id": "cell-cedf19ef9aeb39f9",
     "locked": true,
     "points": 1,
     "schema_version": 1,
     "solution": false
    }
   },
   "outputs": [],
   "source": [
    "%%pytest\n",
    "assert sum_numbers_in_file('numbers1.txt') == 15"
   ]
  },
  {
   "cell_type": "markdown",
   "metadata": {
    "deletable": false,
    "editable": false,
    "nbgrader": {
     "checksum": "835a34b3bb46dbaf7f019f6fd476517c",
     "grade": false,
     "grade_id": "cell-d058b86d284d057d",
     "locked": true,
     "schema_version": 1,
     "solution": false
    }
   },
   "source": [
    "### Exercise 5\n",
    "\n",
    "It was realized that some files have more numbers on several lines such that for a file like\n",
    "\n",
    "    1 2 3 4 5\n",
    "    6 7 8 9 10\n",
    "    \n",
    "could not be handled by this function but we would get an error like\n",
    "\n",
    "    E           ValueError: invalid literal for int() with base 10: '1 2 3 4 5\\n'\n",
    "    \n",
    "\n",
    "In this exercise generalize the function above by copying here. Use the `split` method to split a line into words."
   ]
  },
  {
   "cell_type": "code",
   "execution_count": null,
   "metadata": {
    "deletable": false,
    "nbgrader": {
     "checksum": "133d8b4908931b71e05dc91ae2085fc7",
     "grade": false,
     "grade_id": "cell-e61d832d811f3cc5",
     "locked": false,
     "schema_version": 1,
     "solution": true
    }
   },
   "outputs": [],
   "source": [
    "def sum_numbers_in_file(filename):\n",
    "    f = open(filename)\n",
    "    number_sum = 0\n",
    "    # \n",
    "    # YOUR CODE HERE\n",
    "    # COPY YOUR SOLUTION FROM EXERCISE 4 AND MODIFY\n",
    "    f.close()\n",
    "    return number_sum \n",
    "    "
   ]
  },
  {
   "cell_type": "code",
   "execution_count": null,
   "metadata": {
    "deletable": false,
    "editable": false,
    "nbgrader": {
     "checksum": "e0ee07910b25086d9bd08c31a5859c12",
     "grade": false,
     "grade_id": "cell-24514acaed652220",
     "locked": true,
     "schema_version": 1,
     "solution": false
    }
   },
   "outputs": [],
   "source": [
    "%%file numbers2.txt\n",
    "1 2 3 4 5\n",
    "6 7 8 9 10\n",
    "\n"
   ]
  },
  {
   "cell_type": "code",
   "execution_count": null,
   "metadata": {
    "deletable": false,
    "editable": false,
    "nbgrader": {
     "checksum": "f364aa3d16e40c0efc60fbf2da32351d",
     "grade": true,
     "grade_id": "cell-b4d65b9e6d0f1e01",
     "locked": true,
     "points": 1,
     "schema_version": 1,
     "solution": false
    }
   },
   "outputs": [],
   "source": [
    "%%pytest\n",
    "assert sum_numbers_in_file('numbers1.txt') == 15\n",
    "assert sum_numbers_in_file('numbers2.txt') == 55"
   ]
  },
  {
   "cell_type": "code",
   "execution_count": null,
   "metadata": {},
   "outputs": [],
   "source": []
  }
 ],
 "metadata": {
  "kernelspec": {
   "display_name": "Python 3",
   "language": "python",
   "name": "python3"
  },
  "language_info": {
   "codemirror_mode": {
    "name": "ipython",
    "version": 3
   },
   "file_extension": ".py",
   "mimetype": "text/x-python",
   "name": "python",
   "nbconvert_exporter": "python",
   "pygments_lexer": "ipython3",
   "version": "3.6.7"
  }
 },
 "nbformat": 4,
 "nbformat_minor": 2
}
