{
 "cells": [
  {
   "cell_type": "markdown",
   "metadata": {},
   "source": [
    "Before you turn this problem in, make sure everything runs as expected. First, **restart the kernel** (in the menubar, select Kernel$\\rightarrow$Restart) and then **run all cells** (in the menubar, select Cell$\\rightarrow$Run All).\n",
    "\n",
    "Make sure you fill in any place that says `YOUR CODE HERE` or \"YOUR ANSWER HERE\", as well as your name and collaborators below:"
   ]
  },
  {
   "cell_type": "code",
   "execution_count": null,
   "metadata": {},
   "outputs": [],
   "source": [
    "NAME = \"\"\n",
    "COLLABORATORS = \"\""
   ]
  },
  {
   "cell_type": "markdown",
   "metadata": {},
   "source": [
    "---"
   ]
  },
  {
   "cell_type": "markdown",
   "metadata": {},
   "source": [
    "# File handling\n"
   ]
  },
  {
   "cell_type": "markdown",
   "metadata": {},
   "source": [
    "## Creating our reference file\n",
    "\n",
    "In our initial example we create a small reference file by executing the following cell. The so-called cell-magic command `%%file` takes its first argument as a filename and writes the remaining content of the cell to file\n",
    "\n",
    "[More about cell magic](magics.ipynb)"
   ]
  },
  {
   "cell_type": "code",
   "execution_count": null,
   "metadata": {
    "deletable": false,
    "editable": false,
    "nbgrader": {
     "checksum": "5b2f48cd5a542111d69dc38798799ec7",
     "grade": false,
     "grade_id": "cell-846fa717ec4901bd",
     "locked": true,
     "schema_version": 1,
     "solution": false
    }
   },
   "outputs": [],
   "source": [
    "%%file fruits.txt\n",
    "apple\n",
    "orange\n",
    "banana\n",
    "\n"
   ]
  },
  {
   "cell_type": "markdown",
   "metadata": {},
   "source": [
    "## Reading\n",
    "\n",
    "In the first exercise we recall different forms of reading text files. These are single-line answers that output some text. \n",
    "\n",
    "In the following cell the underscore `_` refers to the output of the previous command"
   ]
  },
  {
   "cell_type": "markdown",
   "metadata": {},
   "source": [
    "#### Exercise 1\n",
    "What single line is used to return the file content as a single string? Not that the string will contain the end-of-line (newline) character `\\n`"
   ]
  },
  {
   "cell_type": "code",
   "execution_count": null,
   "metadata": {
    "deletable": false,
    "nbgrader": {
     "checksum": "02946c87d7fa7f943a216863fd4663f7",
     "grade": false,
     "grade_id": "cell-619ee4026f28565c",
     "locked": false,
     "schema_version": 1,
     "solution": true
    }
   },
   "outputs": [],
   "source": [
    "# YOUR CODE HERE"
   ]
  },
  {
   "cell_type": "code",
   "execution_count": null,
   "metadata": {
    "deletable": false,
    "editable": false,
    "nbgrader": {
     "checksum": "284ada1a6687f80b8621bbc2f45a154b",
     "grade": true,
     "grade_id": "cell-e16f081e726162ce",
     "locked": true,
     "points": 1,
     "schema_version": 1,
     "solution": false
    }
   },
   "outputs": [],
   "source": [
    "assert _[:15] == 'apple\\norange\\nba'"
   ]
  },
  {
   "cell_type": "markdown",
   "metadata": {},
   "source": [
    "#### Exercise 2\n",
    "What single line is used to return the file content as a Python list of strings. "
   ]
  },
  {
   "cell_type": "code",
   "execution_count": null,
   "metadata": {
    "deletable": false,
    "nbgrader": {
     "checksum": "29496f227c7d1400dd295cb57a3d6fe2",
     "grade": false,
     "grade_id": "cell-b8288e222d0343fb",
     "locked": false,
     "schema_version": 1,
     "solution": true
    }
   },
   "outputs": [],
   "source": [
    "# YOUR CODE HERE"
   ]
  },
  {
   "cell_type": "code",
   "execution_count": null,
   "metadata": {
    "deletable": false,
    "editable": false,
    "nbgrader": {
     "checksum": "1edc1e9dc56020f1e0ba6db125fe7f16",
     "grade": true,
     "grade_id": "cell-3f4d59f2de6a1c5e",
     "locked": true,
     "points": 1,
     "schema_version": 1,
     "solution": false
    }
   },
   "outputs": [],
   "source": [
    "assert _[:3] == ['apple\\n', 'orange\\n', 'banana\\n']"
   ]
  },
  {
   "cell_type": "markdown",
   "metadata": {},
   "source": [
    "#### Exercise 3\n",
    "This function will return the lines of the file without the 'end-of-line' characters. Use the [`strip`](https://docs.python.org/3/library/stdtypes.html#str.strip) method"
   ]
  },
  {
   "cell_type": "code",
   "execution_count": null,
   "metadata": {
    "deletable": false,
    "nbgrader": {
     "checksum": "8bf2838b5be79be24f7c7232e83d0384",
     "grade": false,
     "grade_id": "cell-a53c2938a84d15db",
     "locked": false,
     "schema_version": 1,
     "solution": true
    }
   },
   "outputs": [],
   "source": [
    "def get_list_of_lines_without_eol_character(filename):\n",
    "    lines = []\n",
    "    for line in open('fruits.txt'):\n",
    "        # YOUR CODE HERE\n",
    "    return lines\n",
    " \n",
    "get_list_of_lines_without_eol_character('fruits.txt')"
   ]
  },
  {
   "cell_type": "code",
   "execution_count": null,
   "metadata": {
    "deletable": false,
    "editable": false,
    "nbgrader": {
     "checksum": "db872d7060dfb452200cd61762d18252",
     "grade": true,
     "grade_id": "cell-de85c7e2aeabc67f",
     "locked": true,
     "points": 1,
     "schema_version": 1,
     "solution": false
    }
   },
   "outputs": [],
   "source": [
    "assert get_list_of_lines_without_eol_character('fruits.txt')[:3] == ['apple', 'orange', 'banana']"
   ]
  },
  {
   "cell_type": "markdown",
   "metadata": {},
   "source": [
    "## Reading numeric data\n",
    "All reading/writing is done with text objects, i.e. reading a '7' will be text string with a single character rather than a numeric value. \n",
    "\n",
    "To get numbers from file intended for computation we have to do a type conversion (typically `int` or `float`)\n",
    "\n",
    "Consider the following file with numbers. \n"
   ]
  },
  {
   "cell_type": "code",
   "execution_count": null,
   "metadata": {
    "deletable": false,
    "editable": false,
    "nbgrader": {
     "checksum": "cb9b19760f9c8ccc9cff783c93668f86",
     "grade": false,
     "grade_id": "cell-762fc0f0c9060c95",
     "locked": true,
     "schema_version": 1,
     "solution": false
    }
   },
   "outputs": [],
   "source": [
    "%%file numbers1.txt\n",
    "1\n",
    "2\n",
    "3\n",
    "4\n",
    "5\n",
    "\n"
   ]
  },
  {
   "cell_type": "markdown",
   "metadata": {},
   "source": [
    "### Exercise 4\n",
    "\n",
    "Write a function that takes a file name as input and returns the sum of the numbers in the file, assuming one per line"
   ]
  },
  {
   "cell_type": "code",
   "execution_count": null,
   "metadata": {
    "deletable": false,
    "nbgrader": {
     "checksum": "677d59dff1ae68f9f58dbfd13873a16c",
     "grade": false,
     "grade_id": "cell-e61d832d811f3cc4",
     "locked": false,
     "schema_version": 1,
     "solution": true
    }
   },
   "outputs": [],
   "source": [
    "def sum_numbers_in_file(filename):\n",
    "    f = open(filename)\n",
    "    number_sum = 0\n",
    "    # YOUR CODE HERE\n",
    "    f.close()\n",
    "    return number_sum \n",
    " \n",
    "sum_numbers_in_file('numbers1.txt')"
   ]
  },
  {
   "cell_type": "code",
   "execution_count": null,
   "metadata": {
    "deletable": false,
    "editable": false,
    "nbgrader": {
     "checksum": "851f7cf74d4f4bd1796fa8a1fd0005f4",
     "grade": true,
     "grade_id": "cell-cedf19ef9aeb39f9",
     "locked": true,
     "points": 1,
     "schema_version": 1,
     "solution": false
    }
   },
   "outputs": [],
   "source": [
    "\n",
    "assert sum_numbers_in_file('numbers1.txt') == 15"
   ]
  },
  {
   "cell_type": "markdown",
   "metadata": {
    "deletable": false,
    "editable": false,
    "nbgrader": {
     "checksum": "835a34b3bb46dbaf7f019f6fd476517c",
     "grade": false,
     "grade_id": "cell-d058b86d284d057d",
     "locked": true,
     "schema_version": 1,
     "solution": false
    }
   },
   "source": [
    "### Exercise 5\n",
    "\n",
    "It was realized that some files have more numbers on several lines such that for a file like\n",
    "\n",
    "    1 2 3 4 5\n",
    "    6 7 8 9 10\n",
    "    \n",
    "could not be handled by this function but we would get an error like\n",
    "\n",
    "    E           ValueError: invalid literal for int() with base 10: '1 2 3 4 5\\n'\n",
    "    \n",
    "\n",
    "In this exercise generalize the function above by copying here. Use the `split` method to split a line into words."
   ]
  },
  {
   "cell_type": "code",
   "execution_count": null,
   "metadata": {
    "deletable": false,
    "editable": false,
    "nbgrader": {
     "checksum": "e0ee07910b25086d9bd08c31a5859c12",
     "grade": false,
     "grade_id": "cell-24514acaed652220",
     "locked": true,
     "schema_version": 1,
     "solution": false
    }
   },
   "outputs": [],
   "source": [
    "%%file numbers2.txt\n",
    "1 2 3 4 5\n",
    "6 7 8 9 10\n",
    "\n"
   ]
  },
  {
   "cell_type": "code",
   "execution_count": null,
   "metadata": {},
   "outputs": [],
   "source": [
    "# You may uncomment this line and try\n",
    "# sum_numbers_in_file('numbers2.txt')"
   ]
  },
  {
   "cell_type": "markdown",
   "metadata": {},
   "source": [
    "In this exercise generalize the function from exercise 4. Use the `split` method to split a line into words."
   ]
  },
  {
   "cell_type": "code",
   "execution_count": null,
   "metadata": {
    "deletable": false,
    "nbgrader": {
     "checksum": "4678c34f7bce889c27eb60a70f73fb12",
     "grade": false,
     "grade_id": "cell-e61d832d811f3cc5",
     "locked": false,
     "schema_version": 1,
     "solution": true
    }
   },
   "outputs": [],
   "source": [
    "def sum_numbers_in_file(filename):\n",
    "    f = open(filename)\n",
    "    number_sum = 0\n",
    "    # \n",
    "    # YOUR CODE HERE\n",
    "    # COPY YOUR SOLUTION FROM EXERCISE 4 AND MODIFY\n",
    "    f.close()\n",
    "    return number_sum \n",
    "   \n",
    "    \n",
    "sum_numbers_in_file('numbers2.txt')"
   ]
  },
  {
   "cell_type": "code",
   "execution_count": null,
   "metadata": {
    "deletable": false,
    "editable": false,
    "nbgrader": {
     "checksum": "f364aa3d16e40c0efc60fbf2da32351d",
     "grade": true,
     "grade_id": "cell-b4d65b9e6d0f1e01",
     "locked": true,
     "points": 1,
     "schema_version": 1,
     "solution": false
    }
   },
   "outputs": [],
   "source": [
    "%%pytest\n",
    "assert sum_numbers_in_file('numbers1.txt') == 15\n",
    "assert sum_numbers_in_file('numbers2.txt') == 55"
   ]
  },
  {
   "cell_type": "markdown",
   "metadata": {},
   "source": [
    "## Writing files\n",
    "\n",
    "When we call the builtin function `open` with a filename as a single argument the default behaviour is to look for an existing file for reading. If it does not exist the system prints  a `FileNotFoundError` and a message like\n",
    "\n",
    "    open('no_such_file')\n",
    "    ---------------------------------------------------------------------------\n",
    "    FileNotFoundError                         Traceback (most recent call last)\n",
    "    <ipython-input-15-b99a18bdaf59> in <module>()\n",
    "    ----> 1 open('no_such_file')\n",
    "\n",
    "    FileNotFoundError: [Errno 2] No such file or directory: 'no_such_file'\n",
    "    \n",
    " \n",
    " \n",
    "To open a new file to be written we have to supply an additional parameter, `w` for writing.\n",
    "\n",
    "    open('new_file', 'w')\n",
    " \n",
    "The `open` function returns a file object which has methods for reading (`read`, `readlines`) and writing (`write`)\n",
    "\n",
    "You can often look up the documentation of a function with"
   ]
  },
  {
   "cell_type": "code",
   "execution_count": null,
   "metadata": {},
   "outputs": [],
   "source": [
    "help(open)"
   ]
  },
  {
   "cell_type": "markdown",
   "metadata": {},
   "source": [
    "### Exercise 6\n",
    "\n",
    "With the content in the multi-line string write down code that writes the following content to a file of the form first_last.txt  and with capitalized names (First, Last) in the text."
   ]
  },
  {
   "cell_type": "code",
   "execution_count": null,
   "metadata": {
    "deletable": false,
    "nbgrader": {
     "checksum": "8ae224f9e189e2b8e17dc585480e2659",
     "grade": false,
     "grade_id": "cell-9e5cf46774b3a243",
     "locked": false,
     "schema_version": 1,
     "solution": true
    }
   },
   "outputs": [],
   "source": [
    "def try_out_names(first, last):\n",
    "    \n",
    "    content = f\"\"\"\n",
    "    'Tis but thy name that is my enemy;\n",
    "    Thou art thyself, though not a Montague.\n",
    "    What's {last}? It is nor hand, nor foot,\n",
    "    Nor arm, nor face, nor any other part\n",
    "    Belonging to a man. O, be some other name!\n",
    "    What's in a name? That which we call a rose\n",
    "    By any other word would smell as sweet;\n",
    "    So {first} would, were he not {first} call'd,\n",
    "    Retain that dear perfection which he owes\n",
    "    Without that title. {first}, doff thy name,\n",
    "    And for that name which is no part of thee\n",
    "    Take all myself.\n",
    "    \"\"\"\n",
    "    \n",
    "    return content\n",
    "\n",
    "def write_to_file(first, last):\n",
    "    \"\"\"\n",
    "    Writes to file {first}_{last}.txt balcony scene with names\n",
    "    \"\"\"\n",
    "    # YOUR CODE HERE\n",
    "    \n",
    "    \n",
    "print(try_out_names('Ronald', 'McDonald'))"
   ]
  },
  {
   "cell_type": "code",
   "execution_count": null,
   "metadata": {
    "deletable": false,
    "editable": false,
    "nbgrader": {
     "checksum": "10725d4337002d9beacf8d668eb88e86",
     "grade": true,
     "grade_id": "cell-afe447054344d72a",
     "locked": true,
     "points": 1,
     "schema_version": 1,
     "solution": false
    }
   },
   "outputs": [],
   "source": [
    "# This utility function removes an existing file if it exists\n",
    "# like \"rm -f\"  (unix) or \"del\" (windows)\n",
    "import pathlib\n",
    "def remove_file_if_exists(filename):\n",
    "    p = pathlib.Path(filename)\n",
    "    if p.exists():\n",
    "        p.unlink()\n",
    "\n",
    "\n",
    "# Now write to new file and check contents\n",
    "\n",
    "remove_file_if_exists('romeo_montague.txt')\n",
    "write_to_file('ROMEO', 'MONTAGUE')\n",
    "\n",
    "assert open('romeo_montague.txt').read() == try_out_names(\"Romeo\", \"Montague\")"
   ]
  },
  {
   "cell_type": "markdown",
   "metadata": {},
   "source": [
    "### Exercise 7\n",
    "\n",
    "Writing numeric data to a file implies first converting to a string. The built-in function print does that. Look up the documentation on print how you can use it for writing to a file "
   ]
  },
  {
   "cell_type": "code",
   "execution_count": null,
   "metadata": {},
   "outputs": [],
   "source": [
    "help(print)"
   ]
  },
  {
   "cell_type": "code",
   "execution_count": null,
   "metadata": {
    "deletable": false,
    "nbgrader": {
     "checksum": "8a4ec5da98a0fef3d99e1aaa448bb1af",
     "grade": false,
     "grade_id": "cell-df4516027c70782a",
     "locked": false,
     "schema_version": 1,
     "solution": true
    }
   },
   "outputs": [],
   "source": [
    "# Print the number pi to a file with pi.txt using print\n",
    "from math import pi\n",
    "# YOUR CODE HERE"
   ]
  },
  {
   "cell_type": "code",
   "execution_count": null,
   "metadata": {
    "deletable": false,
    "editable": false,
    "nbgrader": {
     "checksum": "1289ca0bb71fde026a1b11d5f404cf89",
     "grade": true,
     "grade_id": "cell-37e29477ff926375",
     "locked": true,
     "points": 1,
     "schema_version": 1,
     "solution": false
    }
   },
   "outputs": [],
   "source": [
    "# Check the first four characters in the file\n",
    "assert open('pi.txt').read()[:4] == '3.14'"
   ]
  },
  {
   "cell_type": "markdown",
   "metadata": {},
   "source": [
    "### Exercise 8\n",
    "Generalize 7 to a function that prints pi with a specified number of decimals. Here use `write` and string formatting\n"
   ]
  },
  {
   "cell_type": "code",
   "execution_count": null,
   "metadata": {
    "deletable": false,
    "nbgrader": {
     "checksum": "165fb02d818c6c1118f95db0d90fc66b",
     "grade": false,
     "grade_id": "cell-6360c6f2039531d7",
     "locked": false,
     "schema_version": 1,
     "solution": true
    }
   },
   "outputs": [],
   "source": [
    "def pi_to_file(decimals):\n",
    "    from math import pi\n",
    "    # YOUR CODE HERE"
   ]
  },
  {
   "cell_type": "code",
   "execution_count": null,
   "metadata": {
    "deletable": false,
    "editable": false,
    "nbgrader": {
     "checksum": "8eacb5e9e6d0801fb9fc1e9c55f6448b",
     "grade": true,
     "grade_id": "cell-f8c9c62b3953114a",
     "locked": true,
     "points": 1,
     "schema_version": 1,
     "solution": false
    }
   },
   "outputs": [],
   "source": [
    "pi_to_file(4)\n",
    "assert open('pi.txt').read() == '3.1416\\n'\n",
    "pi_to_file(5)\n",
    "assert open('pi.txt').read() == '3.14159\\n'"
   ]
  },
  {
   "cell_type": "code",
   "execution_count": null,
   "metadata": {},
   "outputs": [],
   "source": []
  }
 ],
 "metadata": {
  "kernelspec": {
   "display_name": "Python 3",
   "language": "python",
   "name": "python3"
  },
  "language_info": {
   "codemirror_mode": {
    "name": "ipython",
    "version": 3
   },
   "file_extension": ".py",
   "mimetype": "text/x-python",
   "name": "python",
   "nbconvert_exporter": "python",
   "pygments_lexer": "ipython3",
   "version": "3.6.7rc1"
  }
 },
 "nbformat": 4,
 "nbformat_minor": 2
}
