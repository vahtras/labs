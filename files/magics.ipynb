{
 "cells": [
  {
   "cell_type": "markdown",
   "metadata": {},
   "source": [
    "Before you turn this problem in, make sure everything runs as expected. First, **restart the kernel** (in the menubar, select Kernel$\\rightarrow$Restart) and then **run all cells** (in the menubar, select Cell$\\rightarrow$Run All).\n",
    "\n",
    "Make sure you fill in any place that says `YOUR CODE HERE` or \"YOUR ANSWER HERE\", as well as your name and collaborators below:"
   ]
  },
  {
   "cell_type": "code",
   "execution_count": null,
   "metadata": {},
   "outputs": [],
   "source": [
    "NAME = \"\"\n",
    "COLLABORATORS = \"\""
   ]
  },
  {
   "cell_type": "markdown",
   "metadata": {},
   "source": [
    "---"
   ]
  },
  {
   "cell_type": "markdown",
   "metadata": {},
   "source": [
    "# On magic commands\n",
    "\n",
    "The jupyter notebook has inherited som magic commands from iPython (i for interactive) which is terminal-based ineractive Python interpreter and with more features than the standard Python interpreter. The magic commands come in two forms, line magic and cell magic. \n",
    "\n",
    "## Line magic\n",
    "\n",
    "Line magic starts with a command with an initial percent sign `%` and the rest of the line is considered argument to that command, e.g.to list the files in the current folder\n",
    "\n",
    "    % ls\n",
    "    \n",
    "This works the same way on Linux/Mac and Windows. The underlying call for Linux/Mac is the bash `ls` command and in for Windows/DOS the `dir` command. Within a cell you can have several line-magic commands and also intermix them with ordinary Python statements\n",
    "\n",
    "## Cell magic\n",
    "\n",
    "Cell magic is a command with double percent signs `%%` and takes the whole cell as input for this command. For example one may write a script in bash in a cell that is executed when the first line is `%%bash`\n",
    "\n",
    "    %%bash\n",
    "    # list content of HOME folder\n",
    "    ls $HOME\n",
    "\n",
    "\n",
    "## More reading  \n",
    "\n",
    "https://ipython.readthedocs.io/en/stable/interactive/magics.html\n"
   ]
  },
  {
   "cell_type": "code",
   "execution_count": null,
   "metadata": {},
   "outputs": [],
   "source": []
  }
 ],
 "metadata": {
  "kernelspec": {
   "display_name": "Python 3",
   "language": "python",
   "name": "python3"
  },
  "language_info": {
   "codemirror_mode": {
    "name": "ipython",
    "version": 3
   },
   "file_extension": ".py",
   "mimetype": "text/x-python",
   "name": "python",
   "nbconvert_exporter": "python",
   "pygments_lexer": "ipython3",
   "version": "3.6.7rc1"
  }
 },
 "nbformat": 4,
 "nbformat_minor": 2
}
